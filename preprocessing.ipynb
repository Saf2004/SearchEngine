{
 "cells": [
  {
   "cell_type": "code",
   "execution_count": 6,
   "id": "initial_id",
   "metadata": {
    "collapsed": true,
    "ExecuteTime": {
     "end_time": "2024-05-09T20:22:47.344340Z",
     "start_time": "2024-05-09T20:22:47.230277Z"
    }
   },
   "outputs": [],
   "source": [
    "import pandas as pd\n",
    "with open('data/CISI.ALL', 'r') as file:\n",
    "    lines = file.readlines()\n",
    "    documents = []\n",
    "    current_document = None\n",
    "    for line in lines:\n",
    "        if line.startswith('.I'):\n",
    "            if current_document is not None:\n",
    "                current_document['Text'] = current_document['Text'].split('\\t')[0].strip()  # Remove anything after the first tab\n",
    "                documents.append(current_document)\n",
    "            current_document = {'ID': line.strip().split()[1], 'Text': ''}\n",
    "        elif line.startswith('.T'):\n",
    "            continue\n",
    "        elif line.startswith('.A') or line.startswith('.B') or line.startswith('.W') or line.startswith('.X'):\n",
    "            continue\n",
    "        else:\n",
    "            current_document['Text'] += line.strip() + ' '\n",
    "\n",
    "    # Append the last document\n",
    "    if current_document is not None:\n",
    "        current_document['Text'] = current_document['Text'].split('\\t')[0].strip()  # Remove anything after the first tab\n",
    "        documents.append(current_document)\n",
    "    documents_df = pd.DataFrame(documents)\n",
    "    documents_df.to_csv('data/cisi.csv', index=False)"
   ]
  },
  {
   "cell_type": "code",
   "outputs": [
    {
     "data": {
      "text/plain": "      docno                                               text  \\\n993  101551  In article <C4vIr5.L3r@shuksan.ds.boeing.com>,...   \n450  101552  In article <1993Apr5.135153.11132@wdl.loral.co...   \n369  101553  THANKS TO ALL OF YOU WHO RESPONDED TO MY POSTI...   \n359  101554  The subject says it all. My 1984 Chev S10 Pick...   \n467  101555  wolfson@regatta.sps.mot.com (Stephen Wolfson) ...   \n\n                                               subject  \\\n993                        Re: Saturn's Pricing Policy   \n450  Re: Are BMW's worth the price?                ...   \n369                             RE: headlights problem   \n359           left turn signal won't stop automaticaly   \n467                            Re: What is \" Volvo \" ?   \n\n                                        processed_text  \n993  In article <C4vIr5.L3r@shuksan.ds.boeing.com>,...  \n450  In article <1993Apr5.135153.11132@wdl.loral.co...  \n369  THANKS TO ALL OF YOU WHO RESPONDED TO MY POSTI...  \n359  The subject says it all. My 1984 Chev S10 Pick...  \n467  wolfson@regatta.sps.mot.com (Stephen Wolfson) ...  ",
      "text/html": "<div>\n<style scoped>\n    .dataframe tbody tr th:only-of-type {\n        vertical-align: middle;\n    }\n\n    .dataframe tbody tr th {\n        vertical-align: top;\n    }\n\n    .dataframe thead th {\n        text-align: right;\n    }\n</style>\n<table border=\"1\" class=\"dataframe\">\n  <thead>\n    <tr style=\"text-align: right;\">\n      <th></th>\n      <th>docno</th>\n      <th>text</th>\n      <th>subject</th>\n      <th>processed_text</th>\n    </tr>\n  </thead>\n  <tbody>\n    <tr>\n      <th>993</th>\n      <td>101551</td>\n      <td>In article &lt;C4vIr5.L3r@shuksan.ds.boeing.com&gt;,...</td>\n      <td>Re: Saturn's Pricing Policy</td>\n      <td>In article &lt;C4vIr5.L3r@shuksan.ds.boeing.com&gt;,...</td>\n    </tr>\n    <tr>\n      <th>450</th>\n      <td>101552</td>\n      <td>In article &lt;1993Apr5.135153.11132@wdl.loral.co...</td>\n      <td>Re: Are BMW's worth the price?                ...</td>\n      <td>In article &lt;1993Apr5.135153.11132@wdl.loral.co...</td>\n    </tr>\n    <tr>\n      <th>369</th>\n      <td>101553</td>\n      <td>THANKS TO ALL OF YOU WHO RESPONDED TO MY POSTI...</td>\n      <td>RE: headlights problem</td>\n      <td>THANKS TO ALL OF YOU WHO RESPONDED TO MY POSTI...</td>\n    </tr>\n    <tr>\n      <th>359</th>\n      <td>101554</td>\n      <td>The subject says it all. My 1984 Chev S10 Pick...</td>\n      <td>left turn signal won't stop automaticaly</td>\n      <td>The subject says it all. My 1984 Chev S10 Pick...</td>\n    </tr>\n    <tr>\n      <th>467</th>\n      <td>101555</td>\n      <td>wolfson@regatta.sps.mot.com (Stephen Wolfson) ...</td>\n      <td>Re: What is \" Volvo \" ?</td>\n      <td>wolfson@regatta.sps.mot.com (Stephen Wolfson) ...</td>\n    </tr>\n  </tbody>\n</table>\n</div>"
     },
     "execution_count": 2,
     "metadata": {},
     "output_type": "execute_result"
    }
   ],
   "source": [
    "\n",
    "df.head()\n",
    "df.sort_values(by='docno', inplace=True)\n",
    "df.head()"
   ],
   "metadata": {
    "collapsed": false,
    "ExecuteTime": {
     "end_time": "2024-05-09T16:25:10.022130Z",
     "start_time": "2024-05-09T16:25:10.005879Z"
    }
   },
   "id": "4abfb2853accd126",
   "execution_count": 2
  },
  {
   "cell_type": "code",
   "outputs": [],
   "source": [
    "df.to_csv('data/rec_autos.csv', index=False)"
   ],
   "metadata": {
    "collapsed": false,
    "ExecuteTime": {
     "end_time": "2024-05-09T16:25:10.059882Z",
     "start_time": "2024-05-09T16:25:10.011697Z"
    }
   },
   "id": "5ac5d14a8b32e53e",
   "execution_count": 3
  },
  {
   "cell_type": "code",
   "outputs": [
    {
     "name": "stderr",
     "output_type": "stream",
     "text": [
      "Downloading from https://www.kaggle.com/api/v1/models/google/elmo/tensorFlow1/elmo/3/download...\n",
      "100%|██████████| 332M/332M [01:36<00:00, 3.59MB/s] \n",
      "Extracting model files...\n"
     ]
    },
    {
     "name": "stdout",
     "output_type": "stream",
     "text": [
      "Path to model files: /Users/safey/.cache/kagglehub/models/google/elmo/tensorFlow1/elmo/3\n"
     ]
    }
   ],
   "source": [
    "import kagglehub\n",
    "\n",
    "# Download latest version\n",
    "path = kagglehub.model_download(\"google/elmo/tensorFlow1/elmo\")\n",
    "\n",
    "print(\"Path to model files:\", path)"
   ],
   "metadata": {
    "collapsed": false,
    "ExecuteTime": {
     "end_time": "2024-05-09T19:57:08.124060Z",
     "start_time": "2024-05-09T19:55:27.655447Z"
    }
   },
   "id": "ae7bc98be53c9651",
   "execution_count": 4
  },
  {
   "cell_type": "code",
   "outputs": [],
   "source": [],
   "metadata": {
    "collapsed": false
   },
   "id": "d48cb94a751d8adc"
  }
 ],
 "metadata": {
  "kernelspec": {
   "display_name": "Python 3",
   "language": "python",
   "name": "python3"
  },
  "language_info": {
   "codemirror_mode": {
    "name": "ipython",
    "version": 2
   },
   "file_extension": ".py",
   "mimetype": "text/x-python",
   "name": "python",
   "nbconvert_exporter": "python",
   "pygments_lexer": "ipython2",
   "version": "2.7.6"
  }
 },
 "nbformat": 4,
 "nbformat_minor": 5
}
