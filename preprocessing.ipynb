{
 "cells": [
  {
   "cell_type": "code",
   "execution_count": 26,
   "id": "initial_id",
   "metadata": {
    "collapsed": true,
    "ExecuteTime": {
     "end_time": "2024-04-23T11:43:52.847571Z",
     "start_time": "2024-04-23T11:43:52.366455Z"
    }
   },
   "outputs": [],
   "source": [
    "import os\n",
    "import pandas as pd\n",
    "import re\n",
    "\n",
    "def extract_subject(text):\n",
    "    # Define a regular expression pattern to match the Subject line\n",
    "    pattern = r\"Subject: (.+)\"\n",
    "    # Use regex to search for the pattern in the text\n",
    "    match = re.search(pattern, text)\n",
    "    # If a match is found, return the subject, else return None\n",
    "    if match:\n",
    "        return match.group(1)\n",
    "    else:\n",
    "        return None\n",
    "\n",
    "df = pd.DataFrame(columns=['docno', 'text', 'subject'])\n",
    "# Specify the directory path\n",
    "directory = 'data/rec.autos/'\n",
    "\n",
    "# Open the directory and view its contents\n",
    "contents = os.listdir(directory)\n",
    "\n",
    "i = 0\n",
    "for item in contents:\n",
    "    with open(directory + item, 'r', encoding='ISO-8859-1') as file:\n",
    "        i = i + 1\n",
    "        subject = extract_subject(file.read())\n",
    "        file.seek(0)  # Reset file pointer to beginning\n",
    "        processed_text = file.read().split('\\n\\n', 1)[1]\n",
    "        text = processed_text.replace('\\n', ' ')\n",
    "        df = df._append({'docno': item, 'text': text,'processed_text':processed_text, 'subject': subject}, ignore_index=True)\n"
   ]
  },
  {
   "cell_type": "code",
   "outputs": [
    {
     "data": {
      "text/plain": "      docno                                               text  \\\n993  101551  In article <C4vIr5.L3r@shuksan.ds.boeing.com>,...   \n450  101552  In article <1993Apr5.135153.11132@wdl.loral.co...   \n369  101553  THANKS TO ALL OF YOU WHO RESPONDED TO MY POSTI...   \n359  101554  The subject says it all. My 1984 Chev S10 Pick...   \n467  101555  wolfson@regatta.sps.mot.com (Stephen Wolfson) ...   \n\n                                               subject  \\\n993                        Re: Saturn's Pricing Policy   \n450  Re: Are BMW's worth the price?                ...   \n369                             RE: headlights problem   \n359           left turn signal won't stop automaticaly   \n467                            Re: What is \" Volvo \" ?   \n\n                                        processed_text  \n993  In article <C4vIr5.L3r@shuksan.ds.boeing.com>,...  \n450  In article <1993Apr5.135153.11132@wdl.loral.co...  \n369  THANKS TO ALL OF YOU WHO RESPONDED TO MY POSTI...  \n359  The subject says it all. My 1984 Chev S10 Pick...  \n467  wolfson@regatta.sps.mot.com (Stephen Wolfson) ...  ",
      "text/html": "<div>\n<style scoped>\n    .dataframe tbody tr th:only-of-type {\n        vertical-align: middle;\n    }\n\n    .dataframe tbody tr th {\n        vertical-align: top;\n    }\n\n    .dataframe thead th {\n        text-align: right;\n    }\n</style>\n<table border=\"1\" class=\"dataframe\">\n  <thead>\n    <tr style=\"text-align: right;\">\n      <th></th>\n      <th>docno</th>\n      <th>text</th>\n      <th>subject</th>\n      <th>processed_text</th>\n    </tr>\n  </thead>\n  <tbody>\n    <tr>\n      <th>993</th>\n      <td>101551</td>\n      <td>In article &lt;C4vIr5.L3r@shuksan.ds.boeing.com&gt;,...</td>\n      <td>Re: Saturn's Pricing Policy</td>\n      <td>In article &lt;C4vIr5.L3r@shuksan.ds.boeing.com&gt;,...</td>\n    </tr>\n    <tr>\n      <th>450</th>\n      <td>101552</td>\n      <td>In article &lt;1993Apr5.135153.11132@wdl.loral.co...</td>\n      <td>Re: Are BMW's worth the price?                ...</td>\n      <td>In article &lt;1993Apr5.135153.11132@wdl.loral.co...</td>\n    </tr>\n    <tr>\n      <th>369</th>\n      <td>101553</td>\n      <td>THANKS TO ALL OF YOU WHO RESPONDED TO MY POSTI...</td>\n      <td>RE: headlights problem</td>\n      <td>THANKS TO ALL OF YOU WHO RESPONDED TO MY POSTI...</td>\n    </tr>\n    <tr>\n      <th>359</th>\n      <td>101554</td>\n      <td>The subject says it all. My 1984 Chev S10 Pick...</td>\n      <td>left turn signal won't stop automaticaly</td>\n      <td>The subject says it all. My 1984 Chev S10 Pick...</td>\n    </tr>\n    <tr>\n      <th>467</th>\n      <td>101555</td>\n      <td>wolfson@regatta.sps.mot.com (Stephen Wolfson) ...</td>\n      <td>Re: What is \" Volvo \" ?</td>\n      <td>wolfson@regatta.sps.mot.com (Stephen Wolfson) ...</td>\n    </tr>\n  </tbody>\n</table>\n</div>"
     },
     "execution_count": 27,
     "metadata": {},
     "output_type": "execute_result"
    }
   ],
   "source": [
    "\n",
    "df.head()\n",
    "df.sort_values(by='docno', inplace=True)\n",
    "df.head()"
   ],
   "metadata": {
    "collapsed": false,
    "ExecuteTime": {
     "end_time": "2024-04-23T11:43:52.854331Z",
     "start_time": "2024-04-23T11:43:52.851848Z"
    }
   },
   "id": "4abfb2853accd126",
   "execution_count": 27
  },
  {
   "cell_type": "code",
   "outputs": [],
   "source": [
    "df.to_csv('data/rec_autos.csv', index=False)"
   ],
   "metadata": {
    "collapsed": false,
    "ExecuteTime": {
     "end_time": "2024-04-23T11:43:52.892043Z",
     "start_time": "2024-04-23T11:43:52.855091Z"
    }
   },
   "id": "5ac5d14a8b32e53e",
   "execution_count": 28
  },
  {
   "cell_type": "code",
   "outputs": [],
   "source": [],
   "metadata": {
    "collapsed": false
   },
   "id": "ae7bc98be53c9651"
  }
 ],
 "metadata": {
  "kernelspec": {
   "display_name": "Python 3",
   "language": "python",
   "name": "python3"
  },
  "language_info": {
   "codemirror_mode": {
    "name": "ipython",
    "version": 2
   },
   "file_extension": ".py",
   "mimetype": "text/x-python",
   "name": "python",
   "nbconvert_exporter": "python",
   "pygments_lexer": "ipython2",
   "version": "2.7.6"
  }
 },
 "nbformat": 4,
 "nbformat_minor": 5
}
